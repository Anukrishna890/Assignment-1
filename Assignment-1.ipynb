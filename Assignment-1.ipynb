{
 "cells": [
  {
   "cell_type": "code",
   "execution_count": 2,
   "id": "b34a5893-8b0c-457d-9cc9-790fdcaf2ef2",
   "metadata": {},
   "outputs": [
    {
     "name": "stdout",
     "output_type": "stream",
     "text": [
      "10.0\n"
     ]
    }
   ],
   "source": [
    "# Question | write a program to print 10.0 using typecasting\n",
    "a=10\n",
    "print(float(a))"
   ]
  },
  {
   "cell_type": "code",
   "execution_count": 1,
   "id": "3ff71ce9-d342-4b1b-9260-3d7bd52fa7c3",
   "metadata": {},
   "outputs": [
    {
     "name": "stdout",
     "output_type": "stream",
     "text": [
      "<class 'int'>\n",
      "<class 'float'>\n",
      "<class 'str'>\n"
     ]
    }
   ],
   "source": [
    "#Question |print the datatype of the x,y,z\n",
    "x = 56\n",
    "y = 56.78\n",
    "z = \"python\"\n",
    "print(type(x))\n",
    "print(type(y))\n",
    "print(type(z))       "
   ]
  },
  {
   "cell_type": "code",
   "execution_count": 3,
   "id": "46a84918-ea43-451f-936a-3d07bca11738",
   "metadata": {},
   "outputs": [
    {
     "name": "stdout",
     "output_type": "stream",
     "text": [
      "12\n"
     ]
    }
   ],
   "source": [
    "#write a program to print 12 using typecasting\n",
    "a=12.56\n",
    "print(int(12.56))"
   ]
  },
  {
   "cell_type": "code",
   "execution_count": 8,
   "id": "1a8781b2-719e-4a48-9c23-1cde4b14cb91",
   "metadata": {},
   "outputs": [
    {
     "name": "stdout",
     "output_type": "stream",
     "text": [
      "30\n"
     ]
    }
   ],
   "source": [
    "#write a program print 30 by using typecasting conncept\n",
    "a = \"10\"\n",
    "b = \"20\"\n",
    "c = int(a) + int(b)\n",
    "print(c)"
   ]
  },
  {
   "cell_type": "code",
   "execution_count": 10,
   "id": "2f83be18-6e21-4e13-9a85-701635304fbb",
   "metadata": {},
   "outputs": [
    {
     "name": "stdout",
     "output_type": "stream",
     "text": [
      "15\n",
      "5\n",
      "2\n",
      "0\n"
     ]
    }
   ],
   "source": [
    "#Write a program to print 15,5,2 and 0 ,use the approriate operator\n",
    "\n",
    "a = 10\n",
    "b = 5\n",
    "c = int(a) + int(b)\n",
    "d = int(a) - int(b)\n",
    "e = int(a) // int(b)\n",
    "f = int(a) % int(b)\n",
    "print(c)\n",
    "print(d)\n",
    "print(e)\n",
    "print(f)\n"
   ]
  },
  {
   "cell_type": "code",
   "execution_count": 11,
   "id": "daada637-8fa2-42a4-802e-8c714af81581",
   "metadata": {},
   "outputs": [
    {
     "name": "stdout",
     "output_type": "stream",
     "text": [
      "9\n"
     ]
    }
   ],
   "source": [
    "#write a code to print 9 , use the approriate operator\n",
    "a = 3\n",
    "b = 2\n",
    "print(a ** b)\n"
   ]
  },
  {
   "cell_type": "code",
   "execution_count": 12,
   "id": "81993b37-5c23-433a-a709-635c857acc44",
   "metadata": {},
   "outputs": [
    {
     "name": "stdout",
     "output_type": "stream",
     "text": [
      "2.25\n"
     ]
    }
   ],
   "source": [
    "# write a code to print 2 , 2.25 and 1 , use the approriate operator\n",
    "\n",
    "x = 9\n",
    "y = 4\n",
    "a = int(x) / int(y)\n",
    "print(a)"
   ]
  },
  {
   "cell_type": "code",
   "execution_count": 13,
   "id": "8fd4b6dd-0e06-4597-a1d9-e824d9bc807d",
   "metadata": {},
   "outputs": [
    {
     "name": "stdout",
     "output_type": "stream",
     "text": [
      "2\n"
     ]
    }
   ],
   "source": [
    "a = int(x) // int(y)\n",
    "print(a)"
   ]
  },
  {
   "cell_type": "code",
   "execution_count": 14,
   "id": "00477586-3477-4689-a67a-787ffebe8a04",
   "metadata": {},
   "outputs": [
    {
     "name": "stdout",
     "output_type": "stream",
     "text": [
      "1\n"
     ]
    }
   ],
   "source": [
    "a = int(x) % int(y)\n",
    "print(a)"
   ]
  },
  {
   "cell_type": "code",
   "execution_count": 22,
   "id": "f67695c7-00cf-4b1e-b783-f55bd6d5043c",
   "metadata": {},
   "outputs": [
    {
     "name": "stdout",
     "output_type": "stream",
     "text": [
      "True\n"
     ]
    }
   ],
   "source": [
    " # write a code print True ,use the approriate operator\n",
    "\n",
    "a = 10\n",
    "b = 5\n",
    "print (int(a)>int(b))\n",
    "\n",
    "   "
   ]
  },
  {
   "cell_type": "code",
   "execution_count": 23,
   "id": "1231fd83-a0ef-403f-96c2-5165f36b2533",
   "metadata": {},
   "outputs": [
    {
     "name": "stdout",
     "output_type": "stream",
     "text": [
      "False\n"
     ]
    }
   ],
   "source": [
    "# write a code print Fale\n",
    "\n",
    "a = 15\n",
    "b = 15 \n",
    "print (int(a)>int(b))"
   ]
  },
  {
   "cell_type": "code",
   "execution_count": 24,
   "id": "e123c5dd-2fa8-4cb6-a5ee-028bb4cf492f",
   "metadata": {},
   "outputs": [
    {
     "name": "stdout",
     "output_type": "stream",
     "text": [
      "False\n"
     ]
    }
   ],
   "source": [
    "print (int(a)<int(b))"
   ]
  },
  {
   "cell_type": "code",
   "execution_count": 25,
   "id": "c8966cf5-e60e-4e52-a337-e2226df5b8d5",
   "metadata": {},
   "outputs": [
    {
     "name": "stdout",
     "output_type": "stream",
     "text": [
      "True\n"
     ]
    }
   ],
   "source": [
    "# write a code print True\n",
    "\n",
    "a = 24\n",
    "b = 24\n",
    "print (int(a) == int(b))"
   ]
  },
  {
   "cell_type": "code",
   "execution_count": 26,
   "id": "3f4548a0-58b2-4e08-b761-cbfa70e2b41e",
   "metadata": {},
   "outputs": [
    {
     "name": "stdout",
     "output_type": "stream",
     "text": [
      "True\n"
     ]
    }
   ],
   "source": [
    "# write a code print True\n",
    "\n",
    "a = \"python\"\n",
    "b = \"python\"\n",
    "print (a == b)"
   ]
  },
  {
   "cell_type": "code",
   "execution_count": 29,
   "id": "0697a2d7-4444-49e4-8a18-948e7cd00033",
   "metadata": {},
   "outputs": [
    {
     "name": "stdout",
     "output_type": "stream",
     "text": [
      "False\n"
     ]
    }
   ],
   "source": [
    "#write a code print false using and operator\n",
    "\n",
    "a = 10 \n",
    "b = 20\n",
    "print (a > b and a == 10)\n"
   ]
  },
  {
   "cell_type": "code",
   "execution_count": 30,
   "id": "2a9e04ca-cc26-4862-8088-7cae28a81fab",
   "metadata": {},
   "outputs": [
    {
     "name": "stdout",
     "output_type": "stream",
     "text": [
      "True\n"
     ]
    }
   ],
   "source": [
    "#  write a code print True using or operator\n",
    "\n",
    "a = 20\n",
    "b = 10 \n",
    "print (a > b or a == 10)"
   ]
  },
  {
   "cell_type": "code",
   "execution_count": 33,
   "id": "0411fafa-412c-4e77-897f-41ec7195d64e",
   "metadata": {},
   "outputs": [
    {
     "name": "stdout",
     "output_type": "stream",
     "text": [
      "True\n"
     ]
    }
   ],
   "source": [
    "#  write a code print True using Not operator\n",
    "\n",
    "a = 20\n",
    "b = 10 \n",
    "print (not(a < b ))"
   ]
  },
  {
   "cell_type": "code",
   "execution_count": null,
   "id": "8c2095eb-2671-45eb-8db7-63395cf8bcff",
   "metadata": {},
   "outputs": [],
   "source": []
  }
 ],
 "metadata": {
  "kernelspec": {
   "display_name": "Python 3 (ipykernel)",
   "language": "python",
   "name": "python3"
  },
  "language_info": {
   "codemirror_mode": {
    "name": "ipython",
    "version": 3
   },
   "file_extension": ".py",
   "mimetype": "text/x-python",
   "name": "python",
   "nbconvert_exporter": "python",
   "pygments_lexer": "ipython3",
   "version": "3.13.5"
  }
 },
 "nbformat": 4,
 "nbformat_minor": 5
}
