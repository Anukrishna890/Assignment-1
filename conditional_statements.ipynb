{
 "cells": [
  {
   "cell_type": "code",
   "execution_count": 1,
   "id": "d343653e-5c53-4377-be02-f20769c1fcc8",
   "metadata": {},
   "outputs": [
    {
     "name": "stdout",
     "output_type": "stream",
     "text": [
      "x is odd\n"
     ]
    }
   ],
   "source": [
    "# Write a program to find given number is odd or even \n",
    "x = 45\n",
    "if x%2==0:\n",
    "    print(\"x is even\")\n",
    "else:\n",
    "    print(\"x is odd\")"
   ]
  },
  {
   "cell_type": "code",
   "execution_count": 2,
   "id": "aff9ae24-5607-402a-afbf-65f56d008732",
   "metadata": {},
   "outputs": [
    {
     "name": "stdout",
     "output_type": "stream",
     "text": [
      "Its a leap year\n"
     ]
    }
   ],
   "source": [
    "#Write a program to find the given year is leap year or not\n",
    "year = 2020\n",
    "if year%4==0:\n",
    "    if year%100==0:\n",
    "        if year%400==0:\n",
    "            print(\"Its a leap year\")\n",
    "        else:\n",
    "            print(\"Its not a leap year\")\n",
    "    else:\n",
    "        print(\"Its a leap year\")\n",
    "else:\n",
    "    print(\"Its not a leap year\")  "
   ]
  },
  {
   "cell_type": "code",
   "execution_count": 3,
   "id": "1e3e8d3b-eac8-46dd-9e52-44aa515d9686",
   "metadata": {},
   "outputs": [
    {
     "name": "stdin",
     "output_type": "stream",
     "text": [
      "Enter a year:  2020\n"
     ]
    },
    {
     "name": "stdout",
     "output_type": "stream",
     "text": [
      "2020 is a leap year.\n"
     ]
    }
   ],
   "source": [
    "year = int(input(\"Enter a year: \"))\n",
    "\n",
    "if (year % 4 == 0) and (year % 100 != 0 or year % 400 == 0):\n",
    "    print(year, \"is a leap year.\")\n",
    "else:\n",
    "    print(year, \"is not a leap year.\")"
   ]
  },
  {
   "cell_type": "code",
   "execution_count": 4,
   "id": "2d0f6204-fbec-4dfc-9db1-be2e1c841376",
   "metadata": {},
   "outputs": [
    {
     "name": "stdin",
     "output_type": "stream",
     "text": [
      "Enter your age:  25\n"
     ]
    },
    {
     "name": "stdout",
     "output_type": "stream",
     "text": [
      "you can vote\n"
     ]
    }
   ],
   "source": [
    "# Write a program to print \"You can Vote\" or \"You Cannot Vote\n",
    "age = int(input(\"Enter your age: \"))\n",
    "if age >=18:\n",
    "    print(\"you can vote\")\n",
    "else:\n",
    "    print(\"you cannot vote\")"
   ]
  },
  {
   "cell_type": "code",
   "execution_count": 5,
   "id": "c8bcecc8-48eb-4235-b433-450837b125c1",
   "metadata": {},
   "outputs": [
    {
     "name": "stdin",
     "output_type": "stream",
     "text": [
      "Enter value a: 7\n",
      "Enter value b: 8\n",
      "Enter value c: 9\n"
     ]
    },
    {
     "name": "stdout",
     "output_type": "stream",
     "text": [
      "c is bigger\n"
     ]
    }
   ],
   "source": [
    "# Write a program to find greatest of three numbers\n",
    "a=int(input(\"Enter value a:\"))\n",
    "b=int(input(\"Enter value b:\"))\n",
    "c=int(input(\"Enter value c:\"))\n",
    "if a>b:\n",
    "    if a>c:\n",
    "        print(\"a is bigger\")\n",
    "    else:\n",
    "        print(\"c is bigger\")\n",
    "elif b>c:\n",
    "    print(\"b is bigger\")\n",
    "else:\n",
    "    print(\"c is bigger\")"
   ]
  },
  {
   "cell_type": "code",
   "execution_count": 6,
   "id": "7a5c8d70-2a7e-47f1-bedb-278d3762e683",
   "metadata": {},
   "outputs": [
    {
     "name": "stdin",
     "output_type": "stream",
     "text": [
      "Enter value a: 500\n",
      "Enter value b: 200\n"
     ]
    },
    {
     "name": "stdout",
     "output_type": "stream",
     "text": [
      "Super\n"
     ]
    }
   ],
   "source": [
    "#Write a program to print \"Super\" if the sum of number is \"less\" than 1000 and \"great\" if the sum of number is greater than 1000\n",
    "a=int(input(\"Enter value a:\"))\n",
    "b=int(input(\"Enter value b:\"))\n",
    "if a+b<1000:\n",
    "    print(\"Super\")\n",
    "else:\n",
    "    print(\"great\")"
   ]
  },
  {
   "cell_type": "code",
   "execution_count": null,
   "id": "60a52987-a9ea-4d40-ae5c-f53baa9ab679",
   "metadata": {},
   "outputs": [],
   "source": []
  }
 ],
 "metadata": {
  "kernelspec": {
   "display_name": "Python 3 (ipykernel)",
   "language": "python",
   "name": "python3"
  },
  "language_info": {
   "codemirror_mode": {
    "name": "ipython",
    "version": 3
   },
   "file_extension": ".py",
   "mimetype": "text/x-python",
   "name": "python",
   "nbconvert_exporter": "python",
   "pygments_lexer": "ipython3",
   "version": "3.13.5"
  }
 },
 "nbformat": 4,
 "nbformat_minor": 5
}
