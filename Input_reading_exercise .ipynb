{
 "cells": [
  {
   "cell_type": "code",
   "execution_count": 2,
   "id": "07ad7346-38d6-4403-adda-b8a07aa019a9",
   "metadata": {},
   "outputs": [
    {
     "name": "stdin",
     "output_type": "stream",
     "text": [
      "Enter number of hours:  8\n"
     ]
    },
    {
     "name": "stdout",
     "output_type": "stream",
     "text": [
      "minutes: 480\n"
     ]
    }
   ],
   "source": [
    "# Write a program to hours to minutes , user should able to give hours as input\n",
    "Hours = int(input(\"Enter number of hours: \"))\n",
    "minutes = Hours * 60\n",
    "print(\"minutes:\", minutes)"
   ]
  },
  {
   "cell_type": "code",
   "execution_count": 3,
   "id": "61606360-7930-42ad-90c8-e4f66eddc778",
   "metadata": {},
   "outputs": [
    {
     "name": "stdin",
     "output_type": "stream",
     "text": [
      "Enter the miles:  20\n"
     ]
    },
    {
     "name": "stdout",
     "output_type": "stream",
     "text": [
      "kilometer: 32.0\n"
     ]
    }
   ],
   "source": [
    "# Write a program to convert miles to Kilometer , user shoulb be able to give miles as input\n",
    "miles = int(input(\"Enter the miles: \"))\n",
    "kilometer = miles * 1.6\n",
    "print(\"kilometer:\", kilometer)"
   ]
  },
  {
   "cell_type": "code",
   "execution_count": 4,
   "id": "3594826c-4e01-4ca8-ab1a-fdeaec550a8e",
   "metadata": {},
   "outputs": [
    {
     "name": "stdin",
     "output_type": "stream",
     "text": [
      "Enter the principal amount:  230\n",
      "Enter the rate of interest :  5\n",
      "Enter the time (in years):  1\n"
     ]
    },
    {
     "name": "stdout",
     "output_type": "stream",
     "text": [
      "11.5\n"
     ]
    }
   ],
   "source": [
    "# Write a program to calculate simple interest # all input shoulb be given by the user\n",
    "principal = int(input(\"Enter the principal amount: \"))\n",
    "rate = int(input(\"Enter the rate of interest : \"))\n",
    "time = int(input(\"Enter the time (in years): \"))\n",
    "simple_intrest = principal*rate*time/100\n",
    "print(simple_intrest)"
   ]
  },
  {
   "cell_type": "code",
   "execution_count": 5,
   "id": "db3d983e-b2c8-4f2f-b6d5-6e05e0df02db",
   "metadata": {},
   "outputs": [
    {
     "name": "stdout",
     "output_type": "stream",
     "text": [
      "11\n"
     ]
    }
   ],
   "source": [
    "simple_intrest = principal*rate*time//100\n",
    "print(simple_intrest)"
   ]
  },
  {
   "cell_type": "code",
   "execution_count": 6,
   "id": "ee0b4bd7-b287-404e-8fcb-ae3d4421b78b",
   "metadata": {},
   "outputs": [
    {
     "name": "stdin",
     "output_type": "stream",
     "text": [
      "Enter radius  30\n"
     ]
    },
    {
     "name": "stdout",
     "output_type": "stream",
     "text": [
      "area of circle is 188.4\n"
     ]
    }
   ],
   "source": [
    "# Write a program to calculate area of circle\n",
    "a=(int(input(\"Enter radius \")))\n",
    "b=2*3.14*a\n",
    "\n",
    "print(\"area of circle is\", b)"
   ]
  },
  {
   "cell_type": "code",
   "execution_count": 7,
   "id": "6ad17024-cd3f-4897-a723-39cf58f68c82",
   "metadata": {},
   "outputs": [
    {
     "name": "stdin",
     "output_type": "stream",
     "text": [
      "Enter length  70\n"
     ]
    },
    {
     "name": "stdout",
     "output_type": "stream",
     "text": [
      "perimeter of square is 280.0\n"
     ]
    }
   ],
   "source": [
    "# Write a program to calculate perimeter of square\n",
    "\n",
    "a=(float(input(\"Enter length \")))\n",
    "b=4*a\n",
    "print(\"perimeter of square is\", b)"
   ]
  },
  {
   "cell_type": "code",
   "execution_count": 9,
   "id": "8bf7b718-30b8-4b3d-bbe7-f21a2bbd0d9d",
   "metadata": {},
   "outputs": [
    {
     "name": "stdin",
     "output_type": "stream",
     "text": [
      "Enterlength  4\n"
     ]
    },
    {
     "name": "stdout",
     "output_type": "stream",
     "text": [
      "16\n"
     ]
    }
   ],
   "source": [
    "# Write a program to calculate area of square\n",
    "\n",
    "a=(int(input(\"Enterlength \")))\n",
    "b=a*a\n",
    "print(b)"
   ]
  },
  {
   "cell_type": "code",
   "execution_count": 10,
   "id": "198fc639-47e8-4af4-8273-fb8c17657e61",
   "metadata": {},
   "outputs": [
    {
     "name": "stdin",
     "output_type": "stream",
     "text": [
      "Ente base  6\n",
      "Ente height  10\n"
     ]
    },
    {
     "name": "stdout",
     "output_type": "stream",
     "text": [
      "30.0\n"
     ]
    }
   ],
   "source": [
    "# Write a program to area of traingle\n",
    "\n",
    "a=(float(input(\"Ente base \")))\n",
    "b=(float(input(\"Ente height \")))\n",
    "c=(a*b)/2\n",
    "print(c)"
   ]
  },
  {
   "cell_type": "code",
   "execution_count": null,
   "id": "d0b29425-9b3c-4a6f-85ec-b23f84efdbeb",
   "metadata": {},
   "outputs": [],
   "source": []
  }
 ],
 "metadata": {
  "kernelspec": {
   "display_name": "Python 3 (ipykernel)",
   "language": "python",
   "name": "python3"
  },
  "language_info": {
   "codemirror_mode": {
    "name": "ipython",
    "version": 3
   },
   "file_extension": ".py",
   "mimetype": "text/x-python",
   "name": "python",
   "nbconvert_exporter": "python",
   "pygments_lexer": "ipython3",
   "version": "3.13.5"
  }
 },
 "nbformat": 4,
 "nbformat_minor": 5
}
