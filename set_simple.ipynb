{
 "cells": [
  {
   "cell_type": "code",
   "execution_count": 1,
   "id": "1eb19f80-07ae-42d8-8abd-d8cea28a7b29",
   "metadata": {},
   "outputs": [
    {
     "name": "stdout",
     "output_type": "stream",
     "text": [
      "(1, 2, 3, 4, 5)\n",
      "[1, 2, 3, 4, 5]\n"
     ]
    }
   ],
   "source": [
    "#Write a Python program to convert a tuple into a List.\n",
    "x = (1, 2, 3, 4, 5)\n",
    "y = list(x)\n",
    "print(x)\n",
    "print(y)"
   ]
  },
  {
   "cell_type": "code",
   "execution_count": null,
   "id": "42ae68bf-8848-4d08-ac54-403a6f56341a",
   "metadata": {},
   "outputs": [],
   "source": [
    "Write a Python program to print the numbers of a specified list after removing even numbers from it.\n",
    "        Data:\n",
    "            x = [7, 8, 120, 25, 44, 20, 27]\n",
    "        Expected Output:\n",
    "            [7, 25, 27] '''"
   ]
  },
  {
   "cell_type": "code",
   "execution_count": 2,
   "id": "275c8368-4583-4ddb-b435-4b8661e34c10",
   "metadata": {},
   "outputs": [
    {
     "name": "stdout",
     "output_type": "stream",
     "text": [
      "[7, 25, 27]\n"
     ]
    }
   ],
   "source": [
    " x = [7, 8, 120, 25, 44, 20, 27]\n",
    "result = [i for i in x if i % 2 != 0]\n",
    "print(result)       \n"
   ]
  },
  {
   "cell_type": "code",
   "execution_count": null,
   "id": "cb9d7963-7752-4d60-b4c3-01d4c7919f37",
   "metadata": {},
   "outputs": [],
   "source": [
    "Write a Python program to convert and print the given list into a set.\n",
    "    Data:\n",
    "        x = [1,2,3,4]\n",
    "    Expected Output:\n",
    "        x = {1,2,3,4}"
   ]
  },
  {
   "cell_type": "code",
   "execution_count": 3,
   "id": "fc9967a9-0bfe-473b-a89b-b1b492b5093a",
   "metadata": {},
   "outputs": [
    {
     "name": "stdout",
     "output_type": "stream",
     "text": [
      "{1, 2, 3, 4}\n"
     ]
    }
   ],
   "source": [
    "x = [1,2,3,4]\n",
    "print(set(x))"
   ]
  },
  {
   "cell_type": "markdown",
   "id": "44ff00db-48f7-4070-9569-cfc68c466c0c",
   "metadata": {},
   "source": [
    "Write a Python program to find the length of a given set.\n",
    "    Data:\n",
    "        x = {4,5,6,7,9,2}\n",
    "    Expected Output:\n",
    "        6"
   ]
  },
  {
   "cell_type": "code",
   "execution_count": 5,
   "id": "8af54bab-21a2-4611-bf29-bf38829a7463",
   "metadata": {},
   "outputs": [
    {
     "name": "stdout",
     "output_type": "stream",
     "text": [
      "6\n"
     ]
    }
   ],
   "source": [
    "x = {4,5,6,7,9,2}\n",
    "print(len(x))"
   ]
  },
  {
   "cell_type": "code",
   "execution_count": null,
   "id": "66fbc88f-5a16-4952-ade4-b3ac477e4f1c",
   "metadata": {},
   "outputs": [],
   "source": [
    "Write a Python program to create a shallow copy of sets. \n",
    "    Data:\n",
    "        a = [\"Boss\",\"Siva\"]\n",
    "    Expected Output:\n",
    "        {\"Boss\",\"Siva\"}"
   ]
  },
  {
   "cell_type": "code",
   "execution_count": 6,
   "id": "8f0b42df-1b34-4778-8bfc-b56b67ecd4b4",
   "metadata": {},
   "outputs": [
    {
     "name": "stdout",
     "output_type": "stream",
     "text": [
      "{'Boss', 'Siva'}\n"
     ]
    }
   ],
   "source": [
    "a = [\"Boss\",\"Siva\"]\n",
    "a.copy()\n",
    "print(set(a))"
   ]
  },
  {
   "cell_type": "code",
   "execution_count": null,
   "id": "52984d04-a5ca-4d14-962f-de768a4a3a0b",
   "metadata": {},
   "outputs": [],
   "source": [
    " Write a Python program to remove an element from the given set using discard().\n",
    "    Data:\n",
    "        x= {0,1,2,3,4,5}\n",
    "    Expected Output:\n",
    "        {0, 1, 2, 4, 5}"
   ]
  },
  {
   "cell_type": "code",
   "execution_count": 7,
   "id": "70143bef-c88b-4b36-86a6-1f5e45cff479",
   "metadata": {},
   "outputs": [
    {
     "name": "stdout",
     "output_type": "stream",
     "text": [
      "{0, 1, 2, 4, 5}\n"
     ]
    }
   ],
   "source": [
    "x= {0,1,2,3,4,5}\n",
    "x.discard(3)\n",
    "print(x)"
   ]
  },
  {
   "cell_type": "code",
   "execution_count": null,
   "id": "e11c490d-a0de-4da8-9e9f-b66544510153",
   "metadata": {},
   "outputs": [],
   "source": [
    " Write a Python program to add elements to a given set.\n",
    "    Data:\n",
    "        {\"Boss\"}\n",
    "    Expected Output:\n",
    "        {\"Boss\", \"Siva\", \"Suresh\"}"
   ]
  },
  {
   "cell_type": "code",
   "execution_count": 8,
   "id": "eb6d72a1-c9df-4b2f-bc8d-1155ade41adb",
   "metadata": {},
   "outputs": [
    {
     "name": "stdout",
     "output_type": "stream",
     "text": [
      "{'Boss', 'Suresh', 'Siva'}\n"
     ]
    }
   ],
   "source": [
    "a = {\"Boss\"}\n",
    "b = {\"Siva\", \"Suresh\"}\n",
    "a.update(b)\n",
    "print(a)"
   ]
  },
  {
   "cell_type": "code",
   "execution_count": null,
   "id": "edfe4d90-2d0b-47c5-b949-2b38bec7ab8f",
   "metadata": {},
   "outputs": [],
   "source": [
    "6. Write a Python program to remove an element from the given set using pop().\n",
    "    Data:\n",
    "        x = {1,2,3,4,5,6}\n",
    "    Expected Output:\n",
    "        {1, 2, 3, 4}\n",
    "        "
   ]
  },
  {
   "cell_type": "code",
   "execution_count": 14,
   "id": "cdccbe82-2d60-4953-aa09-2d34a7d42653",
   "metadata": {},
   "outputs": [
    {
     "name": "stdout",
     "output_type": "stream",
     "text": [
      "{3, 4, 5, 6}\n"
     ]
    }
   ],
   "source": [
    "x ={1,2,3,4,5,6}\n",
    "x.pop()\n",
    "x.pop()\n",
    "print(x)"
   ]
  },
  {
   "cell_type": "code",
   "execution_count": null,
   "id": "f463fe41-3a0f-4b75-ba85-c28ccb8c06a0",
   "metadata": {},
   "outputs": [],
   "source": [
    "7. Write a Python program to print each elements of a given set using for loop.\n",
    "    Data:\n",
    "        x = {1, 2, 3, 4, 5}\n",
    "    Expected Output:\n",
    "        1\n",
    "        2\n",
    "        3\n",
    "        4\n",
    "        5"
   ]
  },
  {
   "cell_type": "code",
   "execution_count": 16,
   "id": "4afa2df2-ed90-4337-99ce-a804066274e1",
   "metadata": {},
   "outputs": [
    {
     "name": "stdout",
     "output_type": "stream",
     "text": [
      "1\n",
      "2\n",
      "3\n",
      "4\n",
      "5\n"
     ]
    }
   ],
   "source": [
    "x = {1, 2, 3, 4, 5}\n",
    "for i in x:\n",
    "    print(i)"
   ]
  },
  {
   "cell_type": "code",
   "execution_count": null,
   "id": "01ffc17d-cb8e-4983-b1d7-7be46a4bcca0",
   "metadata": {},
   "outputs": [],
   "source": [
    "8. Write a Python program to print the intersection of two given sets. \n",
    "   Data:\n",
    "        x = {\"boss\", \"karthi\"}\n",
    "        y = {\"karthi\", \"siva\"}\n",
    "    Expected Output:\n",
    "        {'karthi'}"
   ]
  },
  {
   "cell_type": "code",
   "execution_count": 18,
   "id": "ec5277cf-3768-4ddd-8724-a589d77b77a3",
   "metadata": {},
   "outputs": [
    {
     "name": "stdout",
     "output_type": "stream",
     "text": [
      "{'karthi'}\n"
     ]
    }
   ],
   "source": [
    "x = {\"boss\", \"karthi\"}\n",
    "y = {\"karthi\", \"siva\"}\n",
    "print(x.intersection(y))"
   ]
  },
  {
   "cell_type": "code",
   "execution_count": null,
   "id": "d033ec78-c948-4413-88d4-92100852d49a",
   "metadata": {},
   "outputs": [],
   "source": [
    "9. Write a Python program to print the union of two given sets. \n",
    "    Data:\n",
    "        x = {\"boss\", \"karthi\"}\n",
    "        y = {\"karthi\", \"siva\"}\n",
    "    Expected Output:\n",
    "        {'boss', 'siva', 'karthi'}\n",
    "        \n",
    "        "
   ]
  },
  {
   "cell_type": "code",
   "execution_count": 19,
   "id": "eaf6738a-bea2-47df-b4cc-7a6e5a73f93a",
   "metadata": {},
   "outputs": [
    {
     "name": "stdout",
     "output_type": "stream",
     "text": [
      "{'boss', 'siva', 'karthi'}\n"
     ]
    }
   ],
   "source": [
    "x = {\"boss\", \"karthi\"}\n",
    "y = {\"karthi\", \"siva\"}\n",
    "print(x.union(y))\n"
   ]
  },
  {
   "cell_type": "code",
   "execution_count": null,
   "id": "f1654017-6511-46ba-ace0-106155f243e5",
   "metadata": {},
   "outputs": [],
   "source": [
    "10. Write a Python program to print the symmetric difference between two given sets. \n",
    "    Data:\n",
    "        x = {\"boss\",\"karthi\"}\n",
    "        y = {\"karthi\",\"siva\"}\n",
    "    Expected Output:\n",
    "        {'boss', 'siva'}\n",
    "        "
   ]
  },
  {
   "cell_type": "code",
   "execution_count": 21,
   "id": "97347745-b9d5-4d6e-87cc-d77589260df8",
   "metadata": {},
   "outputs": [
    {
     "name": "stdout",
     "output_type": "stream",
     "text": [
      "{'boss', 'siva'}\n"
     ]
    }
   ],
   "source": [
    "x = {\"boss\",\"karthi\"}\n",
    "y = {\"karthi\",\"siva\"}\n",
    "x1 = x.difference(y)\n",
    "y1 = y.difference(x)\n",
    "print(x1.union(y1))\n",
    "\n"
   ]
  },
  {
   "cell_type": "code",
   "execution_count": null,
   "id": "5d6a7671-2a06-4c77-8b84-92eb88aab09a",
   "metadata": {},
   "outputs": [],
   "source": [
    "11. Write a Python program to clear a given set.\n",
    "    Data:\n",
    "        x ={\"Kutta\", \"Puppy\"}\n",
    "    Expected Output:\n",
    "        The set x has elements : {'Puppy', 'Kutta'}\n",
    "        After clearing the set x : set()"
   ]
  },
  {
   "cell_type": "code",
   "execution_count": 22,
   "id": "09cd180b-6994-49b4-973d-b36a4510d48c",
   "metadata": {},
   "outputs": [
    {
     "name": "stdout",
     "output_type": "stream",
     "text": [
      "The set x has elements :  {'Puppy', 'Kutta'}\n",
      "After clearing the set x : set()\n"
     ]
    }
   ],
   "source": [
    "x ={\"Kutta\", \"Puppy\"}\n",
    "print(\"The set x has elements : \",x)\n",
    "x.clear()\n",
    "print(\"After clearing the set x :\",x)"
   ]
  },
  {
   "cell_type": "code",
   "execution_count": null,
   "id": "f43b3157-c765-4032-ad11-a79d388c8384",
   "metadata": {},
   "outputs": [],
   "source": [
    "12. Write a Python program to print the maximum value from a given set. \n",
    "    Data:\n",
    "        x = {23, 45, 12, 56, 87}\n",
    "    Expected Output:\n",
    "        87\n",
    "        "
   ]
  },
  {
   "cell_type": "code",
   "execution_count": 24,
   "id": "e39586a4-7678-4371-89f2-359f82bcc255",
   "metadata": {},
   "outputs": [
    {
     "name": "stdout",
     "output_type": "stream",
     "text": [
      "87\n"
     ]
    }
   ],
   "source": [
    "x = {23, 45, 12, 56, 87}\n",
    "print(max(x))"
   ]
  },
  {
   "cell_type": "code",
   "execution_count": null,
   "id": "6a1cc0fa-4a32-48cc-953f-9aae8f2016cd",
   "metadata": {},
   "outputs": [],
   "source": [
    "13. Write a Python program to print the minimum value from a given set. \n",
    "    Data:\n",
    "        x = {23, 56, 2, 3, 78, 6}\n",
    "    Expected Output:\n",
    "        2"
   ]
  },
  {
   "cell_type": "code",
   "execution_count": 25,
   "id": "ee52a7e3-2f46-423c-92af-c220a9fc5113",
   "metadata": {},
   "outputs": [
    {
     "name": "stdout",
     "output_type": "stream",
     "text": [
      "2\n"
     ]
    }
   ],
   "source": [
    "x = {23, 56, 2, 3, 78, 6}\n",
    "print(min(x))\n"
   ]
  },
  {
   "cell_type": "code",
   "execution_count": null,
   "id": "493b5035-645e-4fd6-ab2e-69b4d3c88628",
   "metadata": {},
   "outputs": [],
   "source": [
    "Write a Python program to remove the intersection of a 2nd set from the 1st set using difference_update().\n",
    "    Data:\n",
    "        x = {1, 2, 3, 4, 5}\n",
    "        y = {4, 5, 6, 7, 8}\n",
    "    Expected Output:\n",
    "        {1, 2, 3}\n",
    "        "
   ]
  },
  {
   "cell_type": "code",
   "execution_count": 26,
   "id": "d5a444a2-b371-4bfe-b172-26770a3aab90",
   "metadata": {},
   "outputs": [
    {
     "name": "stdout",
     "output_type": "stream",
     "text": [
      "{1, 2, 3}\n"
     ]
    }
   ],
   "source": [
    "x = {1, 2, 3, 4, 5}\n",
    "y = {4, 5, 6, 7, 8}\n",
    "x.difference_update(y)\n",
    "print(x)"
   ]
  },
  {
   "cell_type": "code",
   "execution_count": null,
   "id": "9d849cab-29af-47af-9c43-4b18b69d466f",
   "metadata": {},
   "outputs": [],
   "source": [
    "15. Write a Python program to update the 1st set with the intersection elements from another set using intersection_update().\n",
    "    Data:\n",
    "        x = {\"apple\", \"banana\", \"cherry\"}\n",
    "        y = {\"google\", \"microsoft\", \"apple\"}\n",
    "    Expected Output:\n",
    "        {\"apple\"}\n",
    "        "
   ]
  },
  {
   "cell_type": "code",
   "execution_count": 27,
   "id": "2c36d9aa-e38b-44ae-acac-c9e0778271d0",
   "metadata": {},
   "outputs": [
    {
     "name": "stdout",
     "output_type": "stream",
     "text": [
      "{'apple'}\n"
     ]
    }
   ],
   "source": [
    "x = {\"apple\", \"banana\", \"cherry\"}\n",
    "y = {\"google\", \"microsoft\", \"apple\"}\n",
    "x.intersection_update(y)\n",
    "print(x)"
   ]
  },
  {
   "cell_type": "code",
   "execution_count": null,
   "id": "e178b590-83dd-44e9-928a-bd34dd94b1d5",
   "metadata": {},
   "outputs": [],
   "source": [
    "16. Write a Python program to zip two sets into a list.\n",
    "    Data:\n",
    "        {1, 2, 3},{\"a\", \"b\", \"c\"}\n",
    "    Expected Output:\n",
    "        [(1, 'c'),(2, 'b'),(3, 'a')]        \n",
    "        "
   ]
  },
  {
   "cell_type": "code",
   "execution_count": 30,
   "id": "950f37a9-0ee1-4053-9ce0-78e214390173",
   "metadata": {},
   "outputs": [
    {
     "name": "stdout",
     "output_type": "stream",
     "text": [
      "[(1, 'c'), (2, 'b'), (3, 'a')]\n"
     ]
    }
   ],
   "source": [
    "Data={1, 2, 3}\n",
    "Data1 ={\"a\", \"b\", \"c\"}\n",
    "new_data = list(Data)\n",
    "new_data1=sorted(Data1,reverse=True)\n",
    "print(list(zip(new_data,new_data1)))\n",
    "      "
   ]
  },
  {
   "cell_type": "code",
   "execution_count": null,
   "id": "059cb3fb-7b8a-4391-ac9e-1c646e8e698e",
   "metadata": {},
   "outputs": [],
   "source": [
    "Write a Python program to convert a list into a set.\n",
    "    Data:\n",
    "        x = [5,3,4,1,2]\n",
    "    Expected Output:\n",
    "        {1,2,3,4,5}"
   ]
  },
  {
   "cell_type": "code",
   "execution_count": 31,
   "id": "01284fbf-bae2-43c0-9064-ee2ed5d66e0a",
   "metadata": {},
   "outputs": [
    {
     "data": {
      "text/plain": [
       "{1, 2, 3, 4, 5}"
      ]
     },
     "execution_count": 31,
     "metadata": {},
     "output_type": "execute_result"
    }
   ],
   "source": [
    "x = [5,3,4,1,2]\n",
    "y=set(x)\n",
    "y"
   ]
  },
  {
   "cell_type": "code",
   "execution_count": null,
   "id": "33abd386-fe99-44b9-9f49-1de33f73ede0",
   "metadata": {},
   "outputs": [],
   "source": [
    "18. Write a python program to check if a set is a subset of another set using comparison operator. Return True if yes, False if not.\n",
    "    Data:\n",
    "        x = {\"1\", \"2\"}\n",
    "        y = {\"1\", \"2\", \"3\"}\n",
    "    Expected Output:\n",
    "        True\n",
    "        False    "
   ]
  },
  {
   "cell_type": "code",
   "execution_count": 35,
   "id": "2007b429-2946-4a0b-8ea4-2c14e9d9ddcc",
   "metadata": {},
   "outputs": [
    {
     "name": "stdout",
     "output_type": "stream",
     "text": [
      "True\n",
      "False\n"
     ]
    }
   ],
   "source": [
    "x = {\"1\", \"2\"}\n",
    "y = {\"1\", \"2\", \"3\"}\n",
    "print(x <= y)  \n",
    "print(y <= x)"
   ]
  },
  {
   "cell_type": "code",
   "execution_count": null,
   "id": "6b349c6a-4240-49fb-9c32-e6c4263defd9",
   "metadata": {},
   "outputs": [],
   "source": [
    " Write a python program to check if a set is a subset of another set using issubset(). Return True if yes, False if not.\n",
    "    Data:\n",
    "        x = {4, 5}\n",
    "        y = {1, 2, 3, 4, 5}\n",
    "    Expected Output:\n",
    "        True\n",
    "        False\n",
    "        "
   ]
  },
  {
   "cell_type": "code",
   "execution_count": 36,
   "id": "e14e597a-a10a-4991-9780-e3db99304043",
   "metadata": {},
   "outputs": [
    {
     "name": "stdout",
     "output_type": "stream",
     "text": [
      "True\n",
      "False\n"
     ]
    }
   ],
   "source": [
    "x = {4, 5}\n",
    "y = {1, 2, 3, 4, 5}\n",
    "print(x.issubset(y))\n",
    "print(y.issubset(x))"
   ]
  },
  {
   "cell_type": "code",
   "execution_count": null,
   "id": "6e787554-cca9-4ca8-a44b-64e78a1ffb09",
   "metadata": {},
   "outputs": [],
   "source": []
  },
  {
   "cell_type": "code",
   "execution_count": null,
   "id": "54b9ec1a-3d90-4405-aa65-8579a29b8d9b",
   "metadata": {},
   "outputs": [],
   "source": []
  },
  {
   "cell_type": "code",
   "execution_count": null,
   "id": "feb2e511-f394-4fa6-98fc-6fbb00bd3ba9",
   "metadata": {},
   "outputs": [],
   "source": []
  },
  {
   "cell_type": "code",
   "execution_count": null,
   "id": "0bb3eac1-d962-4a21-956c-b0a5a841a54c",
   "metadata": {},
   "outputs": [],
   "source": []
  },
  {
   "cell_type": "code",
   "execution_count": null,
   "id": "7ada1958-28a6-4206-a845-6eb5cbf2ec44",
   "metadata": {},
   "outputs": [],
   "source": []
  }
 ],
 "metadata": {
  "kernelspec": {
   "display_name": "Python 3 (ipykernel)",
   "language": "python",
   "name": "python3"
  },
  "language_info": {
   "codemirror_mode": {
    "name": "ipython",
    "version": 3
   },
   "file_extension": ".py",
   "mimetype": "text/x-python",
   "name": "python",
   "nbconvert_exporter": "python",
   "pygments_lexer": "ipython3",
   "version": "3.13.5"
  }
 },
 "nbformat": 4,
 "nbformat_minor": 5
}
