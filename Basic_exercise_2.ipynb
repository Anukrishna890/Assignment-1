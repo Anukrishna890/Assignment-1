{
 "cells": [
  {
   "cell_type": "code",
   "execution_count": 1,
   "id": "484e5a84-cf23-4968-ba32-c9dcfadb3829",
   "metadata": {},
   "outputs": [
    {
     "name": "stdout",
     "output_type": "stream",
     "text": [
      "30\n"
     ]
    }
   ],
   "source": [
    "# write a program to add two  integers 10 , 20\n",
    "a = 10\n",
    "b = 20\n",
    "sum = a+b\n",
    "print(sum)"
   ]
  },
  {
   "cell_type": "code",
   "execution_count": 2,
   "id": "b9139eca-a8b2-4ada-9395-c106184468ef",
   "metadata": {},
   "outputs": [
    {
     "name": "stdout",
     "output_type": "stream",
     "text": [
      "<class 'int'>\n",
      "<class 'float'>\n",
      "<class 'str'>\n"
     ]
    }
   ],
   "source": [
    "# Write a program to find the type of a, b ,c where a=2, b=2.8,c=\"John\"\n",
    "a=2\n",
    "b=2.8\n",
    "c=\"John\"\n",
    "print(type(a))\n",
    "print(type(b))\n",
    "print(type(c))"
   ]
  },
  {
   "cell_type": "code",
   "execution_count": 6,
   "id": "bdded9bc-5c25-43c4-a0a2-1e75c4f89aed",
   "metadata": {},
   "outputs": [
    {
     "name": "stdout",
     "output_type": "stream",
     "text": [
      "4\n"
     ]
    }
   ],
   "source": [
    "# Write a program to swap the two numbers , where a=2 ,b=4 the program should print a= 4 ,b=2\n",
    "a=2\n",
    "b=4\n",
    "a,b=b,a\n",
    "print(a)"
   ]
  },
  {
   "cell_type": "code",
   "execution_count": 7,
   "id": "b4765905-9197-443d-bc96-6b88a666a778",
   "metadata": {},
   "outputs": [
    {
     "name": "stdout",
     "output_type": "stream",
     "text": [
      "2\n"
     ]
    }
   ],
   "source": [
    "print(b)"
   ]
  },
  {
   "cell_type": "code",
   "execution_count": 8,
   "id": "ec39336c-456e-4544-909a-e1ef882677de",
   "metadata": {},
   "outputs": [
    {
     "name": "stdout",
     "output_type": "stream",
     "text": [
      "3\n",
      "4\n"
     ]
    }
   ],
   "source": [
    "# Write a program to swap the two numbers , using 3 variables\n",
    "a=2\n",
    "b=3\n",
    "c=4\n",
    "a=b\n",
    "b=c\n",
    "c=a\n",
    "print(a)\n",
    "print(b)"
   ]
  },
  {
   "cell_type": "code",
   "execution_count": 9,
   "id": "381cae08-7cdd-4adb-bd0e-862108ba4735",
   "metadata": {},
   "outputs": [
    {
     "name": "stdout",
     "output_type": "stream",
     "text": [
      "Numerator: 5\n",
      "Denominator: 3\n",
      "quotient:1.6666666666666667\n",
      "remainder:2\n"
     ]
    }
   ],
   "source": [
    "# Write a program to print the numerator and denominator , quotient and remainder\n",
    "a=5\n",
    "b=3\n",
    "print(f\"Numerator: {a}\")\n",
    "print(f\"Denominator: {b}\")\n",
    "print(f\"quotient:{a/b}\")\n",
    "print(f\"remainder:{a%b}\")"
   ]
  },
  {
   "cell_type": "code",
   "execution_count": 14,
   "id": "7706754c-59eb-405e-9de0-883c6015e59e",
   "metadata": {},
   "outputs": [
    {
     "name": "stdin",
     "output_type": "stream",
     "text": [
      "enter the principle amount:  245\n",
      "enter the number:  75\n",
      "enter the rate:  10\n"
     ]
    },
    {
     "name": "stdout",
     "output_type": "stream",
     "text": [
      "1837.5\n"
     ]
    }
   ],
   "source": [
    "# Write a program to calculate simple interst , si =p*n*r/100\n",
    "principle=int(input(\"enter the principle amount: \"))\n",
    "number=int(input(\"enter the number: \"))\n",
    "rate=int(input(\"enter the rate: \"))\n",
    "simple_intrest = principle*number*rate/100\n",
    "print(simple_intrest)"
   ]
  },
  {
   "cell_type": "code",
   "execution_count": 15,
   "id": "8baacbf7-b52c-4959-afa6-ad754e6f74a8",
   "metadata": {},
   "outputs": [
    {
     "name": "stdout",
     "output_type": "stream",
     "text": [
      "1837\n"
     ]
    }
   ],
   "source": [
    "print(int(simple_intrest))"
   ]
  },
  {
   "cell_type": "code",
   "execution_count": 19,
   "id": "92fdcc6b-aea9-40c9-88f8-c8f5950767b9",
   "metadata": {},
   "outputs": [
    {
     "name": "stdin",
     "output_type": "stream",
     "text": [
      "enter the radius of the circle:  4\n"
     ]
    },
    {
     "name": "stdout",
     "output_type": "stream",
     "text": [
      "50.24\n"
     ]
    }
   ],
   "source": [
    "# Write a program to calculate the area and circumference of a circle ,area=3.14*radius*radius , circumference=2*3.14*r\n",
    "r=int(input(\"enter the radius of the circle: \"))\n",
    "area=3.14*r*r\n",
    "c=2*3.14*r\n",
    "print(area)\n"
   ]
  },
  {
   "cell_type": "code",
   "execution_count": 20,
   "id": "4bb6a80b-69fd-4f02-b113-4b027641aee9",
   "metadata": {},
   "outputs": [
    {
     "name": "stdin",
     "output_type": "stream",
     "text": [
      "enter the celcius:  108\n"
     ]
    },
    {
     "name": "stdout",
     "output_type": "stream",
     "text": [
      "226.4\n"
     ]
    }
   ],
   "source": [
    "# Write a program to convert Celcius to Fariehiet , fariienhiet=1.8*celcius+32\n",
    "celcius = int(input(\"enter the celcius: \"))\n",
    "fariienhiet=1.8*celcius+32\n",
    "print(fariienhiet)"
   ]
  },
  {
   "cell_type": "code",
   "execution_count": null,
   "id": "da037880-c2c3-4275-87aa-880c5d3a6293",
   "metadata": {},
   "outputs": [],
   "source": []
  }
 ],
 "metadata": {
  "kernelspec": {
   "display_name": "Python 3 (ipykernel)",
   "language": "python",
   "name": "python3"
  },
  "language_info": {
   "codemirror_mode": {
    "name": "ipython",
    "version": 3
   },
   "file_extension": ".py",
   "mimetype": "text/x-python",
   "name": "python",
   "nbconvert_exporter": "python",
   "pygments_lexer": "ipython3",
   "version": "3.13.5"
  }
 },
 "nbformat": 4,
 "nbformat_minor": 5
}
