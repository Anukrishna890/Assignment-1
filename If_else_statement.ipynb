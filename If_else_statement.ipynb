{
 "cells": [
  {
   "cell_type": "code",
   "execution_count": 1,
   "id": "1d94bed5-0390-4910-91d8-0dab96159115",
   "metadata": {},
   "outputs": [
    {
     "name": "stdin",
     "output_type": "stream",
     "text": [
      "Enter your marks:  100\n"
     ]
    },
    {
     "name": "stdout",
     "output_type": "stream",
     "text": [
      "Grade A\n"
     ]
    }
   ],
   "source": [
    "marks = float(input(\"Enter your marks: \"))\n",
    "\n",
    "if marks >= 90:\n",
    "    print(\"Grade A\")\n",
    "else:\n",
    "    if marks >= 80:\n",
    "        print(\"Grade B\")\n",
    "    else:\n",
    "        if marks >= 70:\n",
    "            print(\"Grade C\")\n",
    "        else:\n",
    "            if marks >= 60:\n",
    "                print(\"Grade D\")\n",
    "            else:\n",
    "                print(\"Fail\")"
   ]
  },
  {
   "cell_type": "code",
   "execution_count": 2,
   "id": "171cc493-27cc-499f-9aff-da925a3d4380",
   "metadata": {},
   "outputs": [
    {
     "name": "stdin",
     "output_type": "stream",
     "text": [
      "Enter your marks:  30\n"
     ]
    },
    {
     "name": "stdout",
     "output_type": "stream",
     "text": [
      "Fail\n"
     ]
    }
   ],
   "source": [
    "marks = float(input(\"Enter your marks: \"))\n",
    "\n",
    "if marks >= 90:\n",
    "    print(\"Grade A\")\n",
    "else:\n",
    "    if marks >= 80:\n",
    "        print(\"Grade B\")\n",
    "    else:\n",
    "        if marks >= 70:\n",
    "            print(\"Grade C\")\n",
    "        else:\n",
    "            if marks >= 60:\n",
    "                print(\"Grade D\")\n",
    "            else:\n",
    "                print(\"Fail\")"
   ]
  },
  {
   "cell_type": "code",
   "execution_count": 3,
   "id": "432370b5-ec1e-4561-b367-62ba1e720422",
   "metadata": {},
   "outputs": [
    {
     "name": "stdin",
     "output_type": "stream",
     "text": [
      "Enter your marks:  70\n"
     ]
    },
    {
     "name": "stdout",
     "output_type": "stream",
     "text": [
      "Grade C\n"
     ]
    }
   ],
   "source": [
    "marks = float(input(\"Enter your marks: \"))\n",
    "\n",
    "if marks >= 90:\n",
    "    print(\"Grade A\")\n",
    "else:\n",
    "    if marks >= 80:\n",
    "        print(\"Grade B\")\n",
    "    else:\n",
    "        if marks >= 70:\n",
    "            print(\"Grade C\")\n",
    "        else:\n",
    "            if marks >= 60:\n",
    "                print(\"Grade D\")\n",
    "            else:\n",
    "                print(\"Fail\")"
   ]
  },
  {
   "cell_type": "code",
   "execution_count": 4,
   "id": "53735acd-103c-4f6e-aa45-a8443b4744ea",
   "metadata": {},
   "outputs": [
    {
     "name": "stdin",
     "output_type": "stream",
     "text": [
      "Enter your marks:  87\n"
     ]
    },
    {
     "name": "stdout",
     "output_type": "stream",
     "text": [
      "Grade B\n"
     ]
    }
   ],
   "source": [
    "marks = float(input(\"Enter your marks: \"))\n",
    "\n",
    "if marks >= 90:\n",
    "    print(\"Grade A\")\n",
    "else:\n",
    "    if marks >= 80:\n",
    "        print(\"Grade B\")\n",
    "    else:\n",
    "        if marks >= 70:\n",
    "            print(\"Grade C\")\n",
    "        else:\n",
    "            if marks >= 60:\n",
    "                print(\"Grade D\")\n",
    "            else:\n",
    "                print(\"Fail\")"
   ]
  },
  {
   "cell_type": "code",
   "execution_count": 5,
   "id": "8ce394e6-5e2f-403c-ace5-34f3da4e679f",
   "metadata": {},
   "outputs": [
    {
     "name": "stdin",
     "output_type": "stream",
     "text": [
      "Enter your marks:  20\n"
     ]
    },
    {
     "name": "stdout",
     "output_type": "stream",
     "text": [
      "Fail\n"
     ]
    }
   ],
   "source": [
    "marks = float(input(\"Enter your marks: \"))\n",
    "if marks >= 90:\n",
    "    print(\"outstanting\")\n",
    "elif marks >= 80:\n",
    "    print(\"A+\")\n",
    "elif marks >= 70:\n",
    "    print(\"A\")\n",
    "elif marks >= 30:\n",
    "    print(\"B+\")\n",
    "else:\n",
    "    print(\"Fail\")"
   ]
  },
  {
   "cell_type": "code",
   "execution_count": 6,
   "id": "49847a99-5efe-4fd0-ad4e-d2c69f6d97a3",
   "metadata": {},
   "outputs": [
    {
     "name": "stdin",
     "output_type": "stream",
     "text": [
      "Enter your marks:  84\n"
     ]
    },
    {
     "name": "stdout",
     "output_type": "stream",
     "text": [
      "A+\n"
     ]
    }
   ],
   "source": [
    "marks = float(input(\"Enter your marks: \"))\n",
    "if marks >= 90:\n",
    "    print(\"outstanting\")\n",
    "elif marks >= 80:\n",
    "    print(\"A+\")\n",
    "elif marks >= 70:\n",
    "    print(\"A\")\n",
    "elif marks >= 30:\n",
    "    print(\"B+\")\n",
    "else:\n",
    "    print(\"Fail\")"
   ]
  },
  {
   "cell_type": "code",
   "execution_count": null,
   "id": "646fd8ea-54d5-4c37-8ac5-80ccebd8a89b",
   "metadata": {},
   "outputs": [],
   "source": []
  }
 ],
 "metadata": {
  "kernelspec": {
   "display_name": "Python 3 (ipykernel)",
   "language": "python",
   "name": "python3"
  },
  "language_info": {
   "codemirror_mode": {
    "name": "ipython",
    "version": 3
   },
   "file_extension": ".py",
   "mimetype": "text/x-python",
   "name": "python",
   "nbconvert_exporter": "python",
   "pygments_lexer": "ipython3",
   "version": "3.13.5"
  }
 },
 "nbformat": 4,
 "nbformat_minor": 5
}
