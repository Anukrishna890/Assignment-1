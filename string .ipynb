{
 "cells": [
  {
   "cell_type": "code",
   "execution_count": 1,
   "id": "081dd55c-4a64-475b-be32-0bdd0baf05d6",
   "metadata": {},
   "outputs": [
    {
     "name": "stdout",
     "output_type": "stream",
     "text": [
      "6\n"
     ]
    }
   ],
   "source": [
    "#Write a Python program to calculate the length of a given string\n",
    "  #      \"Baskar\"\n",
    "name = \"Baskar\"\n",
    "print(len(name))"
   ]
  },
  {
   "cell_type": "code",
   "execution_count": 12,
   "id": "8cdbe840-f454-489d-ac22-dc0f1d9d0903",
   "metadata": {},
   "outputs": [
    {
     "name": "stdout",
     "output_type": "stream",
     "text": [
      "ython\n",
      "pyton\n",
      "pytho\n"
     ]
    }
   ],
   "source": [
    "#Write a Python program to remove the character of the nth index from a given string. \n",
    " #   Data:\n",
    "    #    \"Python\"\n",
    "s = \"python\"\n",
    "print(s[1:])\n",
    "print(s[:3]+s[4:])\n",
    "print(s[:5])\n"
   ]
  },
  {
   "cell_type": "code",
   "execution_count": 13,
   "id": "cbfa02c6-7ff1-4b67-b7b8-20901471cd2f",
   "metadata": {},
   "outputs": [
    {
     "name": "stdout",
     "output_type": "stream",
     "text": [
      "dbca\n"
     ]
    }
   ],
   "source": [
    "#Write a Python program to interchange the first and last character of a given string.\n",
    " #   Data:\n",
    "     #   'abcd'\n",
    "      #  '12345'\n",
    "str = 'abcd'\n",
    "print(str[-1]+str[1:-1]+str[0])\n"
   ]
  },
  {
   "cell_type": "code",
   "execution_count": 15,
   "id": "cab3f2ea-3fca-4a95-8db8-f28e36ef6107",
   "metadata": {},
   "outputs": [
    {
     "name": "stdout",
     "output_type": "stream",
     "text": [
      "52341\n"
     ]
    }
   ],
   "source": [
    "num = '12345'\n",
    "print(num[-1]+num[1:-1]+num[0])"
   ]
  },
  {
   "cell_type": "code",
   "execution_count": 24,
   "id": "85724b5f-b6c8-42da-abeb-64f8cedc4cd9",
   "metadata": {},
   "outputs": [
    {
     "name": "stdout",
     "output_type": "stream",
     "text": [
      "ace\n",
      "pto\n"
     ]
    }
   ],
   "source": [
    "# Write a Python program to remove the values of the odd index from a given string.\n",
    "   # Data:\n",
    "        #'abcdef'\n",
    "        #'python'\n",
    "str = 'abcdef'\n",
    "print(str[::2])\n",
    "str1 = 'python'\n",
    "print(str1[::2])"
   ]
  },
  {
   "cell_type": "code",
   "execution_count": 27,
   "id": "0a7fd102-0fa6-44bf-8083-b71ee4b0f293",
   "metadata": {},
   "outputs": [
    {
     "name": "stdin",
     "output_type": "stream",
     "text": [
      "whats your favourite language:  tamil\n"
     ]
    },
    {
     "name": "stdout",
     "output_type": "stream",
     "text": [
      "My favourite language is  TAMIL\n",
      "My favourite language is  tamil\n"
     ]
    }
   ],
   "source": [
    "#Write a Python program to get input from the user and print the input back in uppercase.\n",
    "    #Data:\n",
    "        #Whats your favourite language: Tamil\n",
    "#Expected Output:\n",
    "        #My favourite language is  TAMIL\n",
    "        #My favourite language is  tamil\n",
    "fav_lang = input(\"whats your favourite language: \")\n",
    "print(\"My favourite language is \" ,fav_lang.upper())\n",
    "print(\"My favourite language is \" ,fav_lang)"
   ]
  },
  {
   "cell_type": "code",
   "execution_count": 30,
   "id": "7254fa07-3e2d-4a12-8227-2fcd247a4ab9",
   "metadata": {},
   "outputs": [
    {
     "name": "stdin",
     "output_type": "stream",
     "text": [
      "Words :  red, white, black, red, green, black\n"
     ]
    },
    {
     "name": "stdout",
     "output_type": "stream",
     "text": [
      "black, green, red, white, red\n"
     ]
    }
   ],
   "source": [
    "#Write a Python program that accepts a comma separated sequence of words as input and print only the unique strings in sorted.\n",
    "   # Data:\n",
    "        #Words : red, white, black, red, green, black\n",
    "    #Expected Output:\n",
    "       # black, green, red, white,red\n",
    "words = input(\"Words : \")\n",
    "word_list = [w.strip() for w in words.split(',')]\n",
    "unique_sorted = sorted(set(word_list))\n",
    "unique_sorted.append(word_list[-3])\n",
    "print(', '.join(unique_sorted))\n",
    "        "
   ]
  },
  {
   "cell_type": "code",
   "execution_count": 32,
   "id": "12897977-66a3-4921-8724-5973e40115fd",
   "metadata": {},
   "outputs": [
    {
     "name": "stdout",
     "output_type": "stream",
     "text": [
      "aidiNASAUR.COM\n"
     ]
    }
   ],
   "source": [
    "#Write a Python program to lowercase first n characters in a string.\n",
    "    #Data:\n",
    "        #\"AIDINASAUR.COM\"\n",
    "    #Expected Output:  \n",
    "        #aidiNASAUR.COM\n",
    "str = \"AIDINASAUR.COM\"\n",
    "n = 4\n",
    "\n",
    "result = str[:n].lower() + str[n:]\n",
    "print(result) \n"
   ]
  },
  {
   "cell_type": "code",
   "execution_count": 56,
   "id": "26b8b2a9-a284-4e01-ac61-f67f87436f7b",
   "metadata": {},
   "outputs": [
    {
     "name": "stdout",
     "output_type": "stream",
     "text": [
      "7\n",
      "['A', 'I', 'I', 'A', 'A', 'U', 'O']\n"
     ]
    }
   ],
   "source": [
    " #Write a Python program to count and display the vowels of a given text.\n",
    "    #Data:\n",
    "        #\"AIDINASAUR.COM\"\n",
    "    #Expected Output:\n",
    "       # 7\n",
    "       # ['A', 'I', 'I', 'A', 'A', 'U', 'O']\n",
    "\n",
    "str = \"AIDINASAUR.COM\"\n",
    "vowels = \"AEIOU\"\n",
    "vowels_list = [char for char in str if char in vowels]\n",
    "vowels_count=len(vowels_list)\n",
    "print(vowels_count)\n",
    "print(vowels_list)"
   ]
  },
  {
   "cell_type": "code",
   "execution_count": 65,
   "id": "6fe4000d-db40-4b07-aaf5-10cd3f19292f",
   "metadata": {},
   "outputs": [
    {
     "name": "stdout",
     "output_type": "stream",
     "text": [
      "32,054.23\n"
     ]
    }
   ],
   "source": [
    " # a Python program to swap comma and dot in a string.\n",
    "   # Data:\n",
    "        #\"32.054,23\"\n",
    "    #Expected Output:\n",
    "        #\"32,054.23\"\n",
    "\n",
    "digits = \"32.054,23\"\n",
    "result = \"\"\n",
    "\n",
    "for c in digits:\n",
    "    if c == '.':\n",
    "        result += ','\n",
    "    elif c == ',':\n",
    "        result += '.'\n",
    "    else:\n",
    "        result += c\n",
    "\n",
    "print(result)"
   ]
  },
  {
   "cell_type": "code",
   "execution_count": 69,
   "id": "0796f5e6-ca7b-4fe1-818c-c97d230d20df",
   "metadata": {},
   "outputs": [
    {
     "name": "stdout",
     "output_type": "stream",
     "text": [
      "fedcba\n",
      ".sesicrexE nohtyp\n"
     ]
    }
   ],
   "source": [
    "# Write a Python program to reverse a string.\n",
    "    #Data:\n",
    "        #\"abcdef\"\n",
    "        #\"Python Exercises.\"\n",
    "    #Expected Output:\n",
    "        #fedcba\n",
    "        #.sesicrexE nohtyP\n",
    "str1 = \"abcdef\"\n",
    "str2 = \"python Exercises.\"\n",
    "print(str1[::-1])\n",
    "print(str2[::-1])"
   ]
  },
  {
   "cell_type": "code",
   "execution_count": 73,
   "id": "3608b41d-cede-4246-a232-3ca4be9f6c5a",
   "metadata": {},
   "outputs": [
    {
     "name": "stdout",
     "output_type": "stream",
     "text": [
      "2\n"
     ]
    }
   ],
   "source": [
    "# Write a Python program to count the number of occurrences of a substring in a string.\n",
    "   # Data:\n",
    "        #\"Word to publish Word docs as web pages\"\n",
    "        #count = \"word\"\n",
    "    ##Expected Output:2\n",
    "sentence=\"Word to publish Word docs as web pages\"\n",
    "sub_str = \"word\"\n",
    "count =sentence.lower().count(sub_str.lower()) \n",
    "print(count)\n",
    "        "
   ]
  },
  {
   "cell_type": "code",
   "execution_count": null,
   "id": "bcb1ffc4-728b-4dfc-8a17-d7fd7b1bfd75",
   "metadata": {},
   "outputs": [],
   "source": []
  },
  {
   "cell_type": "code",
   "execution_count": null,
   "id": "783ab26f-87cb-4918-ad4d-2b712c05e152",
   "metadata": {},
   "outputs": [],
   "source": []
  },
  {
   "cell_type": "code",
   "execution_count": null,
   "id": "8031ac1f-bbdd-4335-aa13-d0b5f1009b32",
   "metadata": {},
   "outputs": [],
   "source": []
  }
 ],
 "metadata": {
  "kernelspec": {
   "display_name": "Python 3 (ipykernel)",
   "language": "python",
   "name": "python3"
  },
  "language_info": {
   "codemirror_mode": {
    "name": "ipython",
    "version": 3
   },
   "file_extension": ".py",
   "mimetype": "text/x-python",
   "name": "python",
   "nbconvert_exporter": "python",
   "pygments_lexer": "ipython3",
   "version": "3.13.5"
  }
 },
 "nbformat": 4,
 "nbformat_minor": 5
}
