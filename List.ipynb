{
 "cells": [
  {
   "cell_type": "code",
   "execution_count": 1,
   "id": "8101ade5-95c0-4fa0-b81a-eea83ef03e36",
   "metadata": {},
   "outputs": [
    {
     "name": "stdout",
     "output_type": "stream",
     "text": [
      "list is empty\n"
     ]
    }
   ],
   "source": [
    "# 1. Write a Python program to check whether the list is empty or not.\n",
    "list =[]\n",
    "if not list:\n",
    "    print(\"list is empty\")\n",
    "else:\n",
    "    print(\"list is not empty\")\n"
   ]
  },
  {
   "cell_type": "code",
   "execution_count": 8,
   "id": "173a1707-e209-40b2-bef2-c7fa87c70247",
   "metadata": {},
   "outputs": [
    {
     "name": "stdout",
     "output_type": "stream",
     "text": [
      "0 5\n",
      "1 15\n",
      "2 35\n",
      "3 8\n",
      "4 98\n"
     ]
    }
   ],
   "source": [
    "#Write a Python program to access the index of all the elements in a list.\n",
    "x = [5, 15, 35, 8, 98]\n",
    "for index, value in enumerate(x):\n",
    "    print(index, value)"
   ]
  },
  {
   "cell_type": "markdown",
   "id": "2918bc38-531b-4de4-90fb-595259c8a084",
   "metadata": {},
   "source": [
    "''' 3. Write a Python program to convert a list of characters into a string.\n",
    "        Data:\n",
    "            x = ['a', 'b', 'c', 'd']\n",
    "        Expected Output:\n",
    "            abcd '''"
   ]
  },
  {
   "cell_type": "code",
   "execution_count": 9,
   "id": "f3a5be78-d907-43fa-9426-570b596bec22",
   "metadata": {},
   "outputs": [
    {
     "name": "stdout",
     "output_type": "stream",
     "text": [
      "abcd\n"
     ]
    }
   ],
   "source": [
    "x=['a', 'b', 'c', 'd']\n",
    "result = ''.join(x)\n",
    "print(result)"
   ]
  },
  {
   "cell_type": "code",
   "execution_count": null,
   "id": "eaa92d19-17ff-4c55-868b-98ea292f4f79",
   "metadata": {},
   "outputs": [],
   "source": [
    "# Write a Python program to find the index of specified item in a list.\n",
    "        #Data:\n",
    "           # x = [10, 30, 4, -6]\n",
    "        #Expected Output:\n",
    "            #Index of 4 is 2 '''"
   ]
  },
  {
   "cell_type": "code",
   "execution_count": 28,
   "id": "879944d9-0355-4614-a48a-18a4562c438b",
   "metadata": {},
   "outputs": [
    {
     "name": "stdout",
     "output_type": "stream",
     "text": [
      " 4 is 2\n"
     ]
    }
   ],
   "source": [
    "x = [10, 30, 4, -6]\n",
    "i = 4\n",
    "index = x.index(i)\n",
    "print(f\" {i} is {index}\")\n",
    "\n"
   ]
  },
  {
   "cell_type": "markdown",
   "id": "35c9c3c3-93ea-44e7-ab0d-cf4765014736",
   "metadata": {},
   "source": [
    "Write a Python program to print the sum of all the items in a list.\n",
    "    Data:\n",
    "        lt = [1, 2, -8]\n",
    "    Expected Output:\n",
    "        sum is -5 "
   ]
  },
  {
   "cell_type": "code",
   "execution_count": 49,
   "id": "432e1d04-5d6c-4770-a332-7c0a43304308",
   "metadata": {},
   "outputs": [
    {
     "ename": "TypeError",
     "evalue": "'int' object is not callable",
     "output_type": "error",
     "traceback": [
      "\u001b[1;31m---------------------------------------------------------------------------\u001b[0m",
      "\u001b[1;31mTypeError\u001b[0m                                 Traceback (most recent call last)",
      "Cell \u001b[1;32mIn[49], line 2\u001b[0m\n\u001b[0;32m      1\u001b[0m lt \u001b[38;5;241m=\u001b[39m [\u001b[38;5;241m1\u001b[39m, \u001b[38;5;241m2\u001b[39m, \u001b[38;5;241m-\u001b[39m\u001b[38;5;241m8\u001b[39m]\n\u001b[1;32m----> 2\u001b[0m total\u001b[38;5;241m=\u001b[39m\u001b[38;5;28msum\u001b[39m(lt)\n\u001b[0;32m      3\u001b[0m \u001b[38;5;28mprint\u001b[39m(\u001b[38;5;124mf\u001b[39m\u001b[38;5;124m\"\u001b[39m\u001b[38;5;124msum is \u001b[39m\u001b[38;5;132;01m{\u001b[39;00mtotal\u001b[38;5;132;01m}\u001b[39;00m\u001b[38;5;124m\"\u001b[39m)\n",
      "\u001b[1;31mTypeError\u001b[0m: 'int' object is not callable"
     ]
    }
   ],
   "source": [
    "lt = [1, 2, -8]\n",
    "total=sum(lt)\n",
    "print(f\"sum is {total}\")"
   ]
  },
  {
   "cell_type": "markdown",
   "id": "7cd7c292-b140-4831-a1f9-96c24e8a968e",
   "metadata": {},
   "source": [
    "Write a Python program to multiply all the items in a list.\n",
    "        Data:\n",
    "            [1, 2, -8]\n",
    "        Expected Output:\n",
    "            -16 '''\n",
    "        "
   ]
  },
  {
   "cell_type": "code",
   "execution_count": 55,
   "id": "11f49f55-e64b-418c-8ae7-bb8e9c4124b6",
   "metadata": {},
   "outputs": [
    {
     "name": "stdout",
     "output_type": "stream",
     "text": [
      "-16\n"
     ]
    }
   ],
   "source": [
    "lt = [1, 2, -8]\n",
    "result = 1\n",
    "\n",
    "for i in lt:\n",
    "    result *= i\n",
    "\n",
    "print(result)"
   ]
  },
  {
   "cell_type": "markdown",
   "id": "52e50d12-dc33-451f-bfaf-8b59c2f4204b",
   "metadata": {},
   "source": [
    " Write a Python program to get the largest number from a list.\n",
    "        Data:\n",
    "            [1, 2, -8, 0]\n",
    "        Expected Output:\n",
    "            2 '''"
   ]
  },
  {
   "cell_type": "code",
   "execution_count": 56,
   "id": "2c1044dc-8163-4e69-b1a6-91d6e0a128cc",
   "metadata": {},
   "outputs": [
    {
     "name": "stdout",
     "output_type": "stream",
     "text": [
      "2\n"
     ]
    }
   ],
   "source": [
    "lt = [1,2,-8,0]\n",
    "largest =max(lt)\n",
    "print(largest)\n",
    "    "
   ]
  },
  {
   "cell_type": "markdown",
   "id": "ffd15607-ad55-425d-8615-45ee01443751",
   "metadata": {},
   "source": [
    "Write a Python program to get the smallest number from a list. \n",
    "        Data:\n",
    "            [1, 2, -8, 0]\n",
    "        Expected Output:\n",
    "            -8 '''"
   ]
  },
  {
   "cell_type": "code",
   "execution_count": 57,
   "id": "d714558f-8ac5-4c9c-85c8-15718f3a4f59",
   "metadata": {},
   "outputs": [
    {
     "name": "stdout",
     "output_type": "stream",
     "text": [
      "-8\n"
     ]
    }
   ],
   "source": [
    "lt = [1,2,-8,0]\n",
    "smallest =min(lt)\n",
    "print(smallest)"
   ]
  },
  {
   "cell_type": "markdown",
   "id": "b69876cc-95fa-4cb8-9e53-f8455413c9cf",
   "metadata": {},
   "source": [
    "Write a Python program to remove duplicate items from a list.\n",
    "        Data:\n",
    "            a = [10,20,30,20,10,50,60,40,80,50,40]\n",
    "        Expected Output:\n",
    "            [10, 20, 30, 50, 60, 40, 80] '''\n"
   ]
  },
  {
   "cell_type": "code",
   "execution_count": 60,
   "id": "7f401160-eb96-4766-ab89-13af70bb3ba9",
   "metadata": {},
   "outputs": [
    {
     "name": "stdout",
     "output_type": "stream",
     "text": [
      "[10, 20, 30, 50, 60, 40, 80]\n"
     ]
    }
   ],
   "source": [
    "a=[10,20,30,20,10,50,60,40,80,50,40]\n",
    "sorted_list=[]\n",
    "for num in a:\n",
    "    if num not in sorted_list:\n",
    "        sorted_list.append(num)\n",
    "print(sorted_list)"
   ]
  },
  {
   "cell_type": "markdown",
   "id": "93817503-a9fb-43d7-8010-d314d02380e3",
   "metadata": {},
   "source": [
    "Write a Python program to clone or copy a list.\n",
    "        Data:\n",
    "            x = [10, 22, 44, 23, 4]\n",
    "        Expected Output:\n",
    "            X - [10, 22, 44, 23, 4]\n",
    "            Y - [10, 22, 44, 23, 4] '''"
   ]
  },
  {
   "cell_type": "code",
   "execution_count": 69,
   "id": "e2eb19c3-6e7d-4718-95bd-e051d4e3f8e8",
   "metadata": {},
   "outputs": [
    {
     "name": "stdout",
     "output_type": "stream",
     "text": [
      "[10, 22, 44, 23, 4]\n",
      "[10, 22, 44, 23, 4]\n"
     ]
    }
   ],
   "source": [
    "x=[10, 22, 44, 23, 4]\n",
    "y=x.copy()\n",
    "print(x)\n",
    "print(y)\n",
    "    "
   ]
  },
  {
   "cell_type": "code",
   "execution_count": null,
   "id": "dee6fef9-d7a6-49b9-b007-d4c03b4396ed",
   "metadata": {},
   "outputs": [],
   "source": []
  },
  {
   "cell_type": "code",
   "execution_count": null,
   "id": "60679eb1-567c-41d6-8b58-2ff57518f756",
   "metadata": {},
   "outputs": [],
   "source": []
  },
  {
   "cell_type": "code",
   "execution_count": null,
   "id": "a7a7fdcb-0c42-4995-84f0-bedd0bbc216d",
   "metadata": {},
   "outputs": [],
   "source": []
  },
  {
   "cell_type": "code",
   "execution_count": null,
   "id": "55219fd9-dc13-496e-9ab4-150f3ab40b32",
   "metadata": {},
   "outputs": [],
   "source": []
  },
  {
   "cell_type": "code",
   "execution_count": null,
   "id": "f8287224-1db3-4092-b960-ef83a21b88da",
   "metadata": {},
   "outputs": [],
   "source": []
  }
 ],
 "metadata": {
  "kernelspec": {
   "display_name": "Python 3 (ipykernel)",
   "language": "python",
   "name": "python3"
  },
  "language_info": {
   "codemirror_mode": {
    "name": "ipython",
    "version": 3
   },
   "file_extension": ".py",
   "mimetype": "text/x-python",
   "name": "python",
   "nbconvert_exporter": "python",
   "pygments_lexer": "ipython3",
   "version": "3.13.5"
  }
 },
 "nbformat": 4,
 "nbformat_minor": 5
}
